{
 "cells": [
  {
   "cell_type": "code",
   "execution_count": 46,
   "id": "87343f11",
   "metadata": {},
   "outputs": [],
   "source": [
    "from math import cos, asin, sqrt\n",
    "import pandas as pd\n",
    "url = 'https://www.google.com/maps/dir/?api=1&origin=(25.0341,121.564)&destination=25.0304,121.5701&travelmode=walking'\n",
    "\n",
    "\n",
    "\n"
   ]
  },
  {
   "cell_type": "code",
   "execution_count": 81,
   "id": "3272b4a5",
   "metadata": {},
   "outputs": [],
   "source": [
    "\n",
    "\n",
    "#Importing Youbike Station's Lat/Long\n",
    "dflatlong = pd.read_csv('example.tsv', sep='\\t')\n",
    "dflatlong=dflatlong.to_dict('records')\n"
   ]
  },
  {
   "cell_type": "code",
   "execution_count": 76,
   "id": "b7b53c07",
   "metadata": {},
   "outputs": [],
   "source": [
    "#Determining the Closest Youbike Station\n",
    "\n",
    "def distance(lat1, lon1, lat2, lon2):\n",
    "    p = 0.017453292519943295\n",
    "    hav = 0.5 - cos((lat2-lat1)*p)/2 + cos(lat1*p)*cos(lat2*p) * (1-cos((lon2-lon1)*p)) / 2\n",
    "    return 12742 * asin(sqrt(hav))\n",
    "\n",
    "def closest(data, v):\n",
    "    return min(data, key=lambda p: distance(v['lat'],v['lng'],p['lat'],p['lng']))\n",
    "\n",
    "\n",
    "\n",
    "\n",
    "v = {'lat': latOrigin, 'lng': lngOrigin}\n",
    "\n",
    "closestStation=(closest(dflatlong, v))\n",
    "\n",
    "destLat= closestStation['lat']\n",
    "destLng=closestStation['lng']\n",
    "dest=destLat,destLng\n"
   ]
  },
  {
   "cell_type": "code",
   "execution_count": 80,
   "id": "668f1dca",
   "metadata": {},
   "outputs": [
    {
     "data": {
      "text/plain": [
       "{'Station': 'YouBike2.0_Xiushan Community Center',\n",
       " 'lat': 25.14582,\n",
       " 'lng': 121.49303}"
      ]
     },
     "execution_count": 80,
     "metadata": {},
     "output_type": "execute_result"
    }
   ],
   "source": [
    "closestStation"
   ]
  },
  {
   "cell_type": "code",
   "execution_count": null,
   "id": "9db629e2",
   "metadata": {},
   "outputs": [],
   "source": []
  },
  {
   "cell_type": "code",
   "execution_count": null,
   "id": "1d5a2966",
   "metadata": {},
   "outputs": [],
   "source": []
  }
 ],
 "metadata": {
  "kernelspec": {
   "display_name": "Python 3 (ipykernel)",
   "language": "python",
   "name": "python3"
  },
  "language_info": {
   "codemirror_mode": {
    "name": "ipython",
    "version": 3
   },
   "file_extension": ".py",
   "mimetype": "text/x-python",
   "name": "python",
   "nbconvert_exporter": "python",
   "pygments_lexer": "ipython3",
   "version": "3.9.12"
  }
 },
 "nbformat": 4,
 "nbformat_minor": 5
}
