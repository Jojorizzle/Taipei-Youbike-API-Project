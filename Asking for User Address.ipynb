{
 "cells": [
  {
   "cell_type": "code",
   "execution_count": 23,
   "id": "433f3cc3",
   "metadata": {},
   "outputs": [],
   "source": [
    "import geopandas\n",
    "import geopy\n",
    "from geopy.geocoders import Nominatim\n",
    "from math import cos, asin, sqrt\n",
    "import pandas as pd\n"
   ]
  },
  {
   "cell_type": "code",
   "execution_count": 38,
   "id": "bdf1205a",
   "metadata": {},
   "outputs": [
    {
     "name": "stdout",
     "output_type": "stream",
     "text": [
      "What is your current location? #Taipei 101 MALL, 45, City Hall Road, Xicun Village, Xinyi District, Xinyi Commercial Zone, Taipei, 11001, Taiwan\n"
     ]
    }
   ],
   "source": [
    "#Asking user for location to Find Lat/Long\n",
    "address= input('What is your current location? ')\n",
    "#Taipei 101 MALL, 45, City Hall Road, Xicun Village, Xinyi District, Xinyi Commercial Zone, Taipei, 11001, Taiwan\n",
    "locator = Nominatim(user_agent='myGeocoder')\n",
    "location = locator.geocode(address)\n",
    "latOrigin=location.latitude\n",
    "lngOrigin= location.longitude\n",
    "\n"
   ]
  },
  {
   "cell_type": "code",
   "execution_count": 39,
   "id": "d2749bf1",
   "metadata": {},
   "outputs": [],
   "source": [
    "\n",
    "\n",
    "#Importing Youbike Station's Lat/Long\n",
    "dflatlong = pd.read_csv('example.tsv', sep='\\t')\n",
    "dflatlong=dflatlong.to_dict('records')\n"
   ]
  },
  {
   "cell_type": "code",
   "execution_count": 40,
   "id": "4a8f2fef",
   "metadata": {},
   "outputs": [],
   "source": [
    "def distance(lat1, lon1, lat2, lon2):\n",
    "    p = 0.017453292519943295\n",
    "    hav = 0.5 - cos((lat2-lat1)*p)/2 + cos(lat1*p)*cos(lat2*p) * (1-cos((lon2-lon1)*p)) / 2\n",
    "    return 12742 * asin(sqrt(hav))\n",
    "\n",
    "def closest(data, v):\n",
    "    return min(data, key=lambda p: distance(v['lat'],v['lng'],p['lat'],p['lng']))\n",
    "\n",
    "\n",
    "\n",
    "\n",
    "v = {'lat': latOrigin, 'lng': lngOrigin}\n",
    "\n",
    "closestStation=(closest(dflatlong, v))\n",
    "\n",
    "destLat= closestStation['lat']\n",
    "destLng=closestStation['lng']\n",
    "dest=destLat,destLng"
   ]
  },
  {
   "cell_type": "code",
   "execution_count": 41,
   "id": "19c07fe0",
   "metadata": {},
   "outputs": [
    {
     "data": {
      "text/plain": [
       "{'Station': 'YouBike2.0_TWTC Exhibition Hall 3',\n",
       " 'lat': 25.03511,\n",
       " 'lng': 121.56369}"
      ]
     },
     "execution_count": 41,
     "metadata": {},
     "output_type": "execute_result"
    }
   ],
   "source": [
    "closestStation\n"
   ]
  },
  {
   "cell_type": "code",
   "execution_count": 42,
   "id": "f536ab99",
   "metadata": {},
   "outputs": [
    {
     "data": {
      "text/plain": [
       "(25.03511, 121.56369)"
      ]
     },
     "execution_count": 42,
     "metadata": {},
     "output_type": "execute_result"
    }
   ],
   "source": []
  },
  {
   "cell_type": "code",
   "execution_count": null,
   "id": "ac1e3c5f",
   "metadata": {},
   "outputs": [],
   "source": []
  }
 ],
 "metadata": {
  "kernelspec": {
   "display_name": "Python 3 (ipykernel)",
   "language": "python",
   "name": "python3"
  },
  "language_info": {
   "codemirror_mode": {
    "name": "ipython",
    "version": 3
   },
   "file_extension": ".py",
   "mimetype": "text/x-python",
   "name": "python",
   "nbconvert_exporter": "python",
   "pygments_lexer": "ipython3",
   "version": "3.9.12"
  }
 },
 "nbformat": 4,
 "nbformat_minor": 5
}
